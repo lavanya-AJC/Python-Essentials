{
  "nbformat": 4,
  "nbformat_minor": 0,
  "metadata": {
    "colab": {
      "name": "Assignment1.ipynb",
      "provenance": []
    },
    "kernelspec": {
      "name": "python3",
      "display_name": "Python 3"
    }
  },
  "cells": [
    {
      "cell_type": "markdown",
      "metadata": {
        "id": "sqjYFc--R9X2"
      },
      "source": [
        "# **Assignment-1**"
      ]
    },
    {
      "cell_type": "markdown",
      "metadata": {
        "id": "arAADZexSLLc"
      },
      "source": [
        "**Q1. Do Experiment with 5 List's In-built functions and post it to Github**"
      ]
    },
    {
      "cell_type": "code",
      "metadata": {
        "colab": {
          "base_uri": "https://localhost:8080/"
        },
        "id": "9fc6OcenR2gF",
        "outputId": "ea67374d-00b6-4cb3-f239-6f85d5b52f5f"
      },
      "source": [
        "#Functions in List\r\n",
        "dir(list)                                 "
      ],
      "execution_count": 2,
      "outputs": [
        {
          "output_type": "execute_result",
          "data": {
            "text/plain": [
              "['__add__',\n",
              " '__class__',\n",
              " '__contains__',\n",
              " '__delattr__',\n",
              " '__delitem__',\n",
              " '__dir__',\n",
              " '__doc__',\n",
              " '__eq__',\n",
              " '__format__',\n",
              " '__ge__',\n",
              " '__getattribute__',\n",
              " '__getitem__',\n",
              " '__gt__',\n",
              " '__hash__',\n",
              " '__iadd__',\n",
              " '__imul__',\n",
              " '__init__',\n",
              " '__init_subclass__',\n",
              " '__iter__',\n",
              " '__le__',\n",
              " '__len__',\n",
              " '__lt__',\n",
              " '__mul__',\n",
              " '__ne__',\n",
              " '__new__',\n",
              " '__reduce__',\n",
              " '__reduce_ex__',\n",
              " '__repr__',\n",
              " '__reversed__',\n",
              " '__rmul__',\n",
              " '__setattr__',\n",
              " '__setitem__',\n",
              " '__sizeof__',\n",
              " '__str__',\n",
              " '__subclasshook__',\n",
              " 'append',\n",
              " 'clear',\n",
              " 'copy',\n",
              " 'count',\n",
              " 'extend',\n",
              " 'index',\n",
              " 'insert',\n",
              " 'pop',\n",
              " 'remove',\n",
              " 'reverse',\n",
              " 'sort']"
            ]
          },
          "metadata": {
            "tags": []
          },
          "execution_count": 2
        }
      ]
    },
    {
      "cell_type": "code",
      "metadata": {
        "colab": {
          "base_uri": "https://localhost:8080/"
        },
        "id": "r0HEeZuqWB1a",
        "outputId": "d4f9767f-1b13-408f-8a0e-15bfa67c3d55"
      },
      "source": [
        "lst_1 = [1,2,3,4,5,6] # list of integers\r\n",
        "print(lst_1)\r\n",
        "\r\n",
        "#1 List Length\r\n",
        "lst_1.__len__()"
      ],
      "execution_count": 19,
      "outputs": [
        {
          "output_type": "stream",
          "text": [
            "[1, 2, 3, 4, 5, 6]\n"
          ],
          "name": "stdout"
        },
        {
          "output_type": "execute_result",
          "data": {
            "text/plain": [
              "6"
            ]
          },
          "metadata": {
            "tags": []
          },
          "execution_count": 19
        }
      ]
    },
    {
      "cell_type": "code",
      "metadata": {
        "colab": {
          "base_uri": "https://localhost:8080/"
        },
        "id": "6VbRSGEOWjVU",
        "outputId": "4eb03ad5-d625-477b-fc8b-0e064e13466c"
      },
      "source": [
        "#2 insert\r\n",
        "lst_1.insert(2,\"Bing\")\r\n",
        "lst_1"
      ],
      "execution_count": 20,
      "outputs": [
        {
          "output_type": "execute_result",
          "data": {
            "text/plain": [
              "[1, 2, 'Bing', 3, 4, 5, 6]"
            ]
          },
          "metadata": {
            "tags": []
          },
          "execution_count": 20
        }
      ]
    },
    {
      "cell_type": "code",
      "metadata": {
        "colab": {
          "base_uri": "https://localhost:8080/"
        },
        "id": "CHODh0DEWfGi",
        "outputId": "dd02c90a-e2d7-472c-9403-e4bc937b0c90"
      },
      "source": [
        "#3 append\r\n",
        "lst_1.append(\"Tor\")\r\n",
        "lst_1"
      ],
      "execution_count": 21,
      "outputs": [
        {
          "output_type": "execute_result",
          "data": {
            "text/plain": [
              "[1, 2, 'Bing', 3, 4, 5, 6, 'Tor']"
            ]
          },
          "metadata": {
            "tags": []
          },
          "execution_count": 21
        }
      ]
    },
    {
      "cell_type": "code",
      "metadata": {
        "colab": {
          "base_uri": "https://localhost:8080/"
        },
        "id": "xCAHS_PtWbQm",
        "outputId": "3670503b-8e30-4048-ea35-5a48fa490804"
      },
      "source": [
        "#4 remove\r\n",
        "lst_1.remove(\"Tor\")\r\n",
        "lst_1"
      ],
      "execution_count": 22,
      "outputs": [
        {
          "output_type": "execute_result",
          "data": {
            "text/plain": [
              "[1, 2, 'Bing', 3, 4, 5, 6]"
            ]
          },
          "metadata": {
            "tags": []
          },
          "execution_count": 22
        }
      ]
    },
    {
      "cell_type": "code",
      "metadata": {
        "colab": {
          "base_uri": "https://localhost:8080/"
        },
        "id": "UDoBoW6xWSxi",
        "outputId": "f1885d11-19be-415c-d059-c1447a7da774"
      },
      "source": [
        "#5 clear\r\n",
        "lst_1.clear()\r\n",
        "lst_1"
      ],
      "execution_count": 23,
      "outputs": [
        {
          "output_type": "execute_result",
          "data": {
            "text/plain": [
              "[]"
            ]
          },
          "metadata": {
            "tags": []
          },
          "execution_count": 23
        }
      ]
    },
    {
      "cell_type": "markdown",
      "metadata": {
        "id": "FP1ETsLHSQ04"
      },
      "source": [
        "**Q2. Do Experiment with 5 Dictionary’s In-Built Functions, and post it to Github**"
      ]
    },
    {
      "cell_type": "code",
      "metadata": {
        "colab": {
          "base_uri": "https://localhost:8080/"
        },
        "id": "oIURmyULSc2g",
        "outputId": "c8beee21-7ebb-4763-eaf8-051bd943726c"
      },
      "source": [
        "dir(dict)"
      ],
      "execution_count": 24,
      "outputs": [
        {
          "output_type": "execute_result",
          "data": {
            "text/plain": [
              "['__class__',\n",
              " '__contains__',\n",
              " '__delattr__',\n",
              " '__delitem__',\n",
              " '__dir__',\n",
              " '__doc__',\n",
              " '__eq__',\n",
              " '__format__',\n",
              " '__ge__',\n",
              " '__getattribute__',\n",
              " '__getitem__',\n",
              " '__gt__',\n",
              " '__hash__',\n",
              " '__init__',\n",
              " '__init_subclass__',\n",
              " '__iter__',\n",
              " '__le__',\n",
              " '__len__',\n",
              " '__lt__',\n",
              " '__ne__',\n",
              " '__new__',\n",
              " '__reduce__',\n",
              " '__reduce_ex__',\n",
              " '__repr__',\n",
              " '__setattr__',\n",
              " '__setitem__',\n",
              " '__sizeof__',\n",
              " '__str__',\n",
              " '__subclasshook__',\n",
              " 'clear',\n",
              " 'copy',\n",
              " 'fromkeys',\n",
              " 'get',\n",
              " 'items',\n",
              " 'keys',\n",
              " 'pop',\n",
              " 'popitem',\n",
              " 'setdefault',\n",
              " 'update',\n",
              " 'values']"
            ]
          },
          "metadata": {
            "tags": []
          },
          "execution_count": 24
        }
      ]
    },
    {
      "cell_type": "code",
      "metadata": {
        "colab": {
          "base_uri": "https://localhost:8080/"
        },
        "id": "YuQV_msxXyrE",
        "outputId": "c1c9e810-4ca0-4c64-abcb-8f754b9c5b07"
      },
      "source": [
        "# Integer Dictionary\r\n",
        "my_dict = {\"Name\":\"LetsUpgrade\", \"Course\":{1:\"Python Essentials\",2:\"AI\"}}\r\n",
        "my_dict"
      ],
      "execution_count": 38,
      "outputs": [
        {
          "output_type": "execute_result",
          "data": {
            "text/plain": [
              "{'Course': {1: 'Python Essentials', 2: 'AI'}, 'Name': 'LetsUpgrade'}"
            ]
          },
          "metadata": {
            "tags": []
          },
          "execution_count": 38
        }
      ]
    },
    {
      "cell_type": "code",
      "metadata": {
        "colab": {
          "base_uri": "https://localhost:8080/",
          "height": 35
        },
        "id": "MZLwhHQ6X4D4",
        "outputId": "3d4eac2c-34f3-4858-c729-eb6691cfe99a"
      },
      "source": [
        "# 1 name\r\n",
        "my_dict[\"Name\"]"
      ],
      "execution_count": 39,
      "outputs": [
        {
          "output_type": "execute_result",
          "data": {
            "application/vnd.google.colaboratory.intrinsic+json": {
              "type": "string"
            },
            "text/plain": [
              "'LetsUpgrade'"
            ]
          },
          "metadata": {
            "tags": []
          },
          "execution_count": 39
        }
      ]
    },
    {
      "cell_type": "code",
      "metadata": {
        "colab": {
          "base_uri": "https://localhost:8080/"
        },
        "id": "lBUWcXxVYZHB",
        "outputId": "b491dcdf-9b48-4e97-d4d1-ef0d84abda34"
      },
      "source": [
        "# 2 Add Elements \r\n",
        "my_dict[\"Age\"] = 26\r\n",
        "my_dict"
      ],
      "execution_count": 40,
      "outputs": [
        {
          "output_type": "execute_result",
          "data": {
            "text/plain": [
              "{'Age': 26, 'Course': {1: 'Python Essentials', 2: 'AI'}, 'Name': 'LetsUpgrade'}"
            ]
          },
          "metadata": {
            "tags": []
          },
          "execution_count": 40
        }
      ]
    },
    {
      "cell_type": "code",
      "metadata": {
        "colab": {
          "base_uri": "https://localhost:8080/"
        },
        "id": "oM8e2P1YYqNR",
        "outputId": "b761a835-0502-4645-83da-578ded197764"
      },
      "source": [
        "# 3 Get all keys & Value in Tuple \r\n",
        "my_dict.items()"
      ],
      "execution_count": 41,
      "outputs": [
        {
          "output_type": "execute_result",
          "data": {
            "text/plain": [
              "dict_items([('Name', 'LetsUpgrade'), ('Course', {1: 'Python Essentials', 2: 'AI'}), ('Age', 26)])"
            ]
          },
          "metadata": {
            "tags": []
          },
          "execution_count": 41
        }
      ]
    },
    {
      "cell_type": "code",
      "metadata": {
        "colab": {
          "base_uri": "https://localhost:8080/"
        },
        "id": "KXXzTCbBY04h",
        "outputId": "07088d91-b048-4928-f957-9e6e1af4a8aa"
      },
      "source": [
        "# 4 Update\r\n",
        "mobile = {3:\"Nokia\",4:\"motorola razr\"}\r\n",
        "my_dict.update(mobile)\r\n",
        "my_dict"
      ],
      "execution_count": 42,
      "outputs": [
        {
          "output_type": "execute_result",
          "data": {
            "text/plain": [
              "{3: 'Nokia',\n",
              " 4: 'motorola razr',\n",
              " 'Age': 26,\n",
              " 'Course': {1: 'Python Essentials', 2: 'AI'},\n",
              " 'Name': 'LetsUpgrade'}"
            ]
          },
          "metadata": {
            "tags": []
          },
          "execution_count": 42
        }
      ]
    },
    {
      "cell_type": "code",
      "metadata": {
        "colab": {
          "base_uri": "https://localhost:8080/"
        },
        "id": "CMkPSPojY51U",
        "outputId": "9ac2d00e-c4b3-45ab-b51e-c65c355f25f6"
      },
      "source": [
        "#5 Delete \r\n",
        "\r\n",
        "del my_dict[3]\r\n",
        "my_dict"
      ],
      "execution_count": 43,
      "outputs": [
        {
          "output_type": "execute_result",
          "data": {
            "text/plain": [
              "{4: 'motorola razr',\n",
              " 'Age': 26,\n",
              " 'Course': {1: 'Python Essentials', 2: 'AI'},\n",
              " 'Name': 'LetsUpgrade'}"
            ]
          },
          "metadata": {
            "tags": []
          },
          "execution_count": 43
        }
      ]
    }
  ]
}