{
  "nbformat": 4,
  "nbformat_minor": 0,
  "metadata": {
    "colab": {
      "name": "Assignment2.ipynb",
      "provenance": []
    },
    "kernelspec": {
      "name": "python3",
      "display_name": "Python 3"
    }
  },
  "cells": [
    {
      "cell_type": "markdown",
      "metadata": {
        "id": "9dYlFjyYMhPS"
      },
      "source": [
        "# **Assignment - 2**"
      ]
    },
    {
      "cell_type": "markdown",
      "metadata": {
        "id": "blEvYzFoLf_C"
      },
      "source": [
        " **Q1. You all are pilots, you have to land a plane, the altitude required for landing a plane is 1000ft, if it\r\n",
        "is less than that tell the pilot to land the plane, or it is more than that but less than 5000ft ask the\r\n",
        "pilot to \"come down to 1000ft\", else if it is more than 5000ft ask the pilot to \"go around and try\r\n",
        "later\"**"
      ]
    },
    {
      "cell_type": "code",
      "metadata": {
        "colab": {
          "base_uri": "https://localhost:8080/"
        },
        "id": "3Ie8YUglLXDk",
        "outputId": "805760ae-587f-4a46-a2b9-13950cb519e6"
      },
      "source": [
        "altitude=int(input(\"Enter an altitude: \"))\r\n",
        "if altitude<1000:\r\n",
        "  print(\"Land the plane\")\r\n",
        "elif 1000<altitude<5000:\r\n",
        "  print(\"Come down to 1000ft\")\r\n",
        "else:\r\n",
        "  print(\"Go around and try later\")"
      ],
      "execution_count": 5,
      "outputs": [
        {
          "output_type": "stream",
          "text": [
            "Enter an altitude: 6000\n",
            "Go around and try later\n"
          ],
          "name": "stdout"
        }
      ]
    }
  ]
}