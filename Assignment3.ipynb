{
  "nbformat": 4,
  "nbformat_minor": 0,
  "metadata": {
    "colab": {
      "name": "Assignment3.ipynb",
      "provenance": []
    },
    "kernelspec": {
      "name": "python3",
      "display_name": "Python 3"
    }
  },
  "cells": [
    {
      "cell_type": "markdown",
      "metadata": {
        "id": "u1ilGpVLnU1N"
      },
      "source": [
        "# **Write a function in Python to check whether a number is Prime or not.**"
      ]
    },
    {
      "cell_type": "code",
      "metadata": {
        "colab": {
          "base_uri": "https://localhost:8080/"
        },
        "id": "jCwY7F-hnOUm",
        "outputId": "1e8dd110-0f47-4058-b6b9-ec294503f3c0"
      },
      "source": [
        "prime_numbers = 0\r\n",
        "\r\n",
        "def get_prime_number(number):\r\n",
        "    if number >= 2:\r\n",
        "      for j in range(2,number):\r\n",
        "            if not ( number % j ):\r\n",
        "                return False\r\n",
        "    else:\r\n",
        "\t    return False\r\n",
        "    return True       \r\n",
        "\r\n",
        "num = int(input(\"How many numbers you wish to check: \"))\r\n",
        "for i in range(num):\r\n",
        "    if get_prime_number(i):\r\n",
        "        prime_numbers += 1\r\n",
        "        print(i)"
      ],
      "execution_count": 62,
      "outputs": [
        {
          "output_type": "stream",
          "text": [
            "How many numbers you wish to check: 80\n",
            "2\n",
            "3\n",
            "5\n",
            "7\n",
            "11\n",
            "13\n",
            "17\n",
            "19\n",
            "23\n",
            "29\n",
            "31\n",
            "37\n",
            "41\n",
            "43\n",
            "47\n",
            "53\n",
            "59\n",
            "61\n",
            "67\n",
            "71\n",
            "73\n",
            "79\n"
          ],
          "name": "stdout"
        }
      ]
    }
  ]
}